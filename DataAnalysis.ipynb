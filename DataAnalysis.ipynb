{
 "cells": [
  {
   "cell_type": "code",
   "execution_count": 63,
   "metadata": {
    "ExecuteTime": {
     "end_time": "2020-09-18T10:57:08.352580Z",
     "start_time": "2020-09-18T10:57:08.337141Z"
    }
   },
   "outputs": [],
   "source": [
    "import pandas as pd\n",
    "import matplotlib.pyplot as plt\n",
    "import numpy as np\n",
    "import seaborn as sns\n",
    "from sklearn.preprocessing import MinMaxScaler"
   ]
  },
  {
   "cell_type": "code",
   "execution_count": 32,
   "metadata": {
    "ExecuteTime": {
     "end_time": "2020-09-18T10:38:22.791867Z",
     "start_time": "2020-09-18T10:38:05.449986Z"
    }
   },
   "outputs": [],
   "source": [
    "df=pd.read_csv(\"D:/Semester5Project/og.csv\",low_memory=False)"
   ]
  },
  {
   "cell_type": "code",
   "execution_count": 33,
   "metadata": {
    "ExecuteTime": {
     "end_time": "2020-09-18T10:38:23.723475Z",
     "start_time": "2020-09-18T10:38:23.692228Z"
    },
    "scrolled": true
   },
   "outputs": [
    {
     "data": {
      "text/html": [
       "<div>\n",
       "<style scoped>\n",
       "    .dataframe tbody tr th:only-of-type {\n",
       "        vertical-align: middle;\n",
       "    }\n",
       "\n",
       "    .dataframe tbody tr th {\n",
       "        vertical-align: top;\n",
       "    }\n",
       "\n",
       "    .dataframe thead th {\n",
       "        text-align: right;\n",
       "    }\n",
       "</style>\n",
       "<table border=\"1\" class=\"dataframe\">\n",
       "  <thead>\n",
       "    <tr style=\"text-align: right;\">\n",
       "      <th></th>\n",
       "      <th>srcip</th>\n",
       "      <th>sport</th>\n",
       "      <th>dstip</th>\n",
       "      <th>dsport</th>\n",
       "      <th>proto</th>\n",
       "      <th>state</th>\n",
       "      <th>dur</th>\n",
       "      <th>sbytes</th>\n",
       "      <th>dbytes</th>\n",
       "      <th>sttl</th>\n",
       "      <th>...</th>\n",
       "      <th>ct_ftp_cmd</th>\n",
       "      <th>ct_srv_src</th>\n",
       "      <th>ct_srv_dst</th>\n",
       "      <th>ct_dst_ltm</th>\n",
       "      <th>ct_src_ ltm</th>\n",
       "      <th>ct_src_dport_ltm</th>\n",
       "      <th>ct_dst_sport_ltm</th>\n",
       "      <th>ct_dst_src_ltm</th>\n",
       "      <th>attack_cat</th>\n",
       "      <th>Label</th>\n",
       "    </tr>\n",
       "  </thead>\n",
       "  <tbody>\n",
       "    <tr>\n",
       "      <th>0</th>\n",
       "      <td>59.166.0.0</td>\n",
       "      <td>33661</td>\n",
       "      <td>149.171.126.9</td>\n",
       "      <td>1024</td>\n",
       "      <td>udp</td>\n",
       "      <td>CON</td>\n",
       "      <td>0.036133</td>\n",
       "      <td>528</td>\n",
       "      <td>304</td>\n",
       "      <td>31</td>\n",
       "      <td>...</td>\n",
       "      <td>0</td>\n",
       "      <td>2</td>\n",
       "      <td>4</td>\n",
       "      <td>2</td>\n",
       "      <td>3</td>\n",
       "      <td>1</td>\n",
       "      <td>1</td>\n",
       "      <td>2</td>\n",
       "      <td>NaN</td>\n",
       "      <td>0</td>\n",
       "    </tr>\n",
       "    <tr>\n",
       "      <th>1</th>\n",
       "      <td>59.166.0.6</td>\n",
       "      <td>1464</td>\n",
       "      <td>149.171.126.7</td>\n",
       "      <td>53</td>\n",
       "      <td>udp</td>\n",
       "      <td>CON</td>\n",
       "      <td>0.001119</td>\n",
       "      <td>146</td>\n",
       "      <td>178</td>\n",
       "      <td>31</td>\n",
       "      <td>...</td>\n",
       "      <td>0</td>\n",
       "      <td>12</td>\n",
       "      <td>8</td>\n",
       "      <td>1</td>\n",
       "      <td>2</td>\n",
       "      <td>2</td>\n",
       "      <td>1</td>\n",
       "      <td>1</td>\n",
       "      <td>NaN</td>\n",
       "      <td>0</td>\n",
       "    </tr>\n",
       "    <tr>\n",
       "      <th>2</th>\n",
       "      <td>59.166.0.5</td>\n",
       "      <td>3593</td>\n",
       "      <td>149.171.126.5</td>\n",
       "      <td>53</td>\n",
       "      <td>udp</td>\n",
       "      <td>CON</td>\n",
       "      <td>0.001209</td>\n",
       "      <td>132</td>\n",
       "      <td>164</td>\n",
       "      <td>31</td>\n",
       "      <td>...</td>\n",
       "      <td>0</td>\n",
       "      <td>6</td>\n",
       "      <td>9</td>\n",
       "      <td>1</td>\n",
       "      <td>1</td>\n",
       "      <td>1</td>\n",
       "      <td>1</td>\n",
       "      <td>1</td>\n",
       "      <td>NaN</td>\n",
       "      <td>0</td>\n",
       "    </tr>\n",
       "    <tr>\n",
       "      <th>3</th>\n",
       "      <td>59.166.0.3</td>\n",
       "      <td>49664</td>\n",
       "      <td>149.171.126.0</td>\n",
       "      <td>53</td>\n",
       "      <td>udp</td>\n",
       "      <td>CON</td>\n",
       "      <td>0.001169</td>\n",
       "      <td>146</td>\n",
       "      <td>178</td>\n",
       "      <td>31</td>\n",
       "      <td>...</td>\n",
       "      <td>0</td>\n",
       "      <td>7</td>\n",
       "      <td>9</td>\n",
       "      <td>1</td>\n",
       "      <td>1</td>\n",
       "      <td>1</td>\n",
       "      <td>1</td>\n",
       "      <td>1</td>\n",
       "      <td>NaN</td>\n",
       "      <td>0</td>\n",
       "    </tr>\n",
       "    <tr>\n",
       "      <th>4</th>\n",
       "      <td>59.166.0.0</td>\n",
       "      <td>32119</td>\n",
       "      <td>149.171.126.9</td>\n",
       "      <td>111</td>\n",
       "      <td>udp</td>\n",
       "      <td>CON</td>\n",
       "      <td>0.078339</td>\n",
       "      <td>568</td>\n",
       "      <td>312</td>\n",
       "      <td>31</td>\n",
       "      <td>...</td>\n",
       "      <td>0</td>\n",
       "      <td>2</td>\n",
       "      <td>4</td>\n",
       "      <td>2</td>\n",
       "      <td>3</td>\n",
       "      <td>1</td>\n",
       "      <td>1</td>\n",
       "      <td>2</td>\n",
       "      <td>NaN</td>\n",
       "      <td>0</td>\n",
       "    </tr>\n",
       "  </tbody>\n",
       "</table>\n",
       "<p>5 rows × 49 columns</p>\n",
       "</div>"
      ],
      "text/plain": [
       "        srcip  sport          dstip dsport proto state       dur  sbytes  \\\n",
       "0  59.166.0.0  33661  149.171.126.9   1024   udp   CON  0.036133     528   \n",
       "1  59.166.0.6   1464  149.171.126.7     53   udp   CON  0.001119     146   \n",
       "2  59.166.0.5   3593  149.171.126.5     53   udp   CON  0.001209     132   \n",
       "3  59.166.0.3  49664  149.171.126.0     53   udp   CON  0.001169     146   \n",
       "4  59.166.0.0  32119  149.171.126.9    111   udp   CON  0.078339     568   \n",
       "\n",
       "   dbytes  sttl  ...  ct_ftp_cmd  ct_srv_src  ct_srv_dst ct_dst_ltm  \\\n",
       "0     304    31  ...           0           2           4          2   \n",
       "1     178    31  ...           0          12           8          1   \n",
       "2     164    31  ...           0           6           9          1   \n",
       "3     178    31  ...           0           7           9          1   \n",
       "4     312    31  ...           0           2           4          2   \n",
       "\n",
       "   ct_src_ ltm  ct_src_dport_ltm  ct_dst_sport_ltm  ct_dst_src_ltm  \\\n",
       "0            3                 1                 1               2   \n",
       "1            2                 2                 1               1   \n",
       "2            1                 1                 1               1   \n",
       "3            1                 1                 1               1   \n",
       "4            3                 1                 1               2   \n",
       "\n",
       "   attack_cat  Label  \n",
       "0         NaN      0  \n",
       "1         NaN      0  \n",
       "2         NaN      0  \n",
       "3         NaN      0  \n",
       "4         NaN      0  \n",
       "\n",
       "[5 rows x 49 columns]"
      ]
     },
     "execution_count": 33,
     "metadata": {},
     "output_type": "execute_result"
    }
   ],
   "source": [
    "df.head()"
   ]
  },
  {
   "cell_type": "code",
   "execution_count": 34,
   "metadata": {
    "ExecuteTime": {
     "end_time": "2020-09-18T10:38:25.762593Z",
     "start_time": "2020-09-18T10:38:24.672923Z"
    }
   },
   "outputs": [
    {
     "data": {
      "text/plain": [
       "srcip               False\n",
       "sport               False\n",
       "dstip               False\n",
       "dsport              False\n",
       "proto               False\n",
       "state               False\n",
       "dur                 False\n",
       "sbytes              False\n",
       "dbytes              False\n",
       "sttl                False\n",
       "dttl                False\n",
       "sloss               False\n",
       "dloss               False\n",
       "service             False\n",
       "Sload               False\n",
       "Dload               False\n",
       "Spkts               False\n",
       "Dpkts               False\n",
       "swin                False\n",
       "dwin                False\n",
       "stcpb               False\n",
       "dtcpb               False\n",
       "smeansz             False\n",
       "dmeansz             False\n",
       "trans_depth         False\n",
       "res_bdy_len         False\n",
       "Sjit                False\n",
       "Djit                False\n",
       "Stime               False\n",
       "Ltime               False\n",
       "Sintpkt             False\n",
       "Dintpkt             False\n",
       "tcprtt              False\n",
       "synack              False\n",
       "ackdat              False\n",
       "is_sm_ips_ports     False\n",
       "ct_state_ttl        False\n",
       "ct_flw_http_mthd     True\n",
       "is_ftp_login         True\n",
       "ct_ftp_cmd          False\n",
       "ct_srv_src          False\n",
       "ct_srv_dst          False\n",
       "ct_dst_ltm          False\n",
       "ct_src_ ltm         False\n",
       "ct_src_dport_ltm    False\n",
       "ct_dst_sport_ltm    False\n",
       "ct_dst_src_ltm      False\n",
       "attack_cat           True\n",
       "Label               False\n",
       "dtype: bool"
      ]
     },
     "execution_count": 34,
     "metadata": {},
     "output_type": "execute_result"
    }
   ],
   "source": [
    "df.isnull().any()"
   ]
  },
  {
   "cell_type": "code",
   "execution_count": 35,
   "metadata": {
    "ExecuteTime": {
     "end_time": "2020-09-18T10:38:37.163459Z",
     "start_time": "2020-09-18T10:38:26.869229Z"
    }
   },
   "outputs": [],
   "source": [
    "df.drop(index=df[df.duplicated()].index,inplace=True)"
   ]
  },
  {
   "cell_type": "code",
   "execution_count": 22,
   "metadata": {
    "ExecuteTime": {
     "end_time": "2020-09-18T10:28:45.465698Z",
     "start_time": "2020-09-18T10:28:41.256870Z"
    }
   },
   "outputs": [
    {
     "name": "stdout",
     "output_type": "stream",
     "text": [
      "srcip False\n",
      "sport False\n",
      "dstip False\n",
      "dsport False\n",
      "proto False\n",
      "state False\n",
      "service False\n",
      "ct_ftp_cmd True\n",
      "attack_cat False\n"
     ]
    }
   ],
   "source": [
    "for i in df.select_dtypes(exclude=np.number).columns:\n",
    "    print(i,df[i].str.isspace().any())"
   ]
  },
  {
   "cell_type": "code",
   "execution_count": 36,
   "metadata": {
    "ExecuteTime": {
     "end_time": "2020-09-18T10:38:38.049237Z",
     "start_time": "2020-09-18T10:38:37.892044Z"
    }
   },
   "outputs": [
    {
     "data": {
      "text/plain": [
       "     1014165\n",
       "0    1005477\n",
       "1      38853\n",
       "2        263\n",
       "4        250\n",
       "3        206\n",
       "5        105\n",
       "6         91\n",
       "8          3\n",
       "Name: ct_ftp_cmd, dtype: int64"
      ]
     },
     "execution_count": 36,
     "metadata": {},
     "output_type": "execute_result"
    }
   ],
   "source": [
    "df['ct_ftp_cmd'].value_counts()"
   ]
  },
  {
   "cell_type": "code",
   "execution_count": 37,
   "metadata": {
    "ExecuteTime": {
     "end_time": "2020-09-18T10:38:40.493809Z",
     "start_time": "2020-09-18T10:38:38.951786Z"
    }
   },
   "outputs": [
    {
     "name": "stderr",
     "output_type": "stream",
     "text": [
      "C:\\ProgramData\\Anaconda3\\lib\\site-packages\\pandas\\core\\indexing.py:670: SettingWithCopyWarning: \n",
      "A value is trying to be set on a copy of a slice from a DataFrame\n",
      "\n",
      "See the caveats in the documentation: https://pandas.pydata.org/pandas-docs/stable/user_guide/indexing.html#returning-a-view-versus-a-copy\n",
      "  iloc._setitem_with_indexer(indexer, value)\n"
     ]
    }
   ],
   "source": [
    "indexes=[]\n",
    "for i,j in df['ct_ftp_cmd'].str.isspace().items():\n",
    "    if(j==True):\n",
    "        indexes.append(i)\n",
    "df['ct_ftp_cmd'].loc[indexes]='0'"
   ]
  },
  {
   "cell_type": "code",
   "execution_count": 38,
   "metadata": {
    "ExecuteTime": {
     "end_time": "2020-09-18T10:38:41.466671Z",
     "start_time": "2020-09-18T10:38:41.309493Z"
    }
   },
   "outputs": [
    {
     "data": {
      "text/plain": [
       "0    2019642\n",
       "1      38853\n",
       "2        263\n",
       "4        250\n",
       "3        206\n",
       "5        105\n",
       "6         91\n",
       "8          3\n",
       "Name: ct_ftp_cmd, dtype: int64"
      ]
     },
     "execution_count": 38,
     "metadata": {},
     "output_type": "execute_result"
    }
   ],
   "source": [
    "df['ct_ftp_cmd'].value_counts()"
   ]
  },
  {
   "cell_type": "markdown",
   "metadata": {},
   "source": [
    "Dropping the IP Addresses as they are not useful (and attack_cat)"
   ]
  },
  {
   "cell_type": "code",
   "execution_count": 39,
   "metadata": {
    "ExecuteTime": {
     "end_time": "2020-09-18T10:41:28.691870Z",
     "start_time": "2020-09-18T10:41:28.073889Z"
    }
   },
   "outputs": [],
   "source": [
    "df.drop(columns=['srcip','dstip','attack_cat'],inplace=True)"
   ]
  },
  {
   "cell_type": "code",
   "execution_count": 43,
   "metadata": {
    "ExecuteTime": {
     "end_time": "2020-09-18T10:43:02.449536Z",
     "start_time": "2020-09-18T10:43:01.757301Z"
    }
   },
   "outputs": [],
   "source": [
    "df=df.replace('-',np.nan)"
   ]
  },
  {
   "cell_type": "code",
   "execution_count": 46,
   "metadata": {
    "ExecuteTime": {
     "end_time": "2020-09-18T10:44:20.387652Z",
     "start_time": "2020-09-18T10:44:18.861308Z"
    }
   },
   "outputs": [],
   "source": [
    "df['sport']=df['sport'].apply(lambda x: '12' if x=='0x000c' else x)\n",
    "df['sport']=df['sport'].apply(lambda x: '11' if x=='0x000b' else x)\n",
    "df['sport']=df['sport'].astype('float64')"
   ]
  },
  {
   "cell_type": "code",
   "execution_count": 47,
   "metadata": {
    "ExecuteTime": {
     "end_time": "2020-09-18T10:44:43.375899Z",
     "start_time": "2020-09-18T10:44:41.643614Z"
    }
   },
   "outputs": [],
   "source": [
    "df['dsport']=df['dsport'].apply(lambda x: '52233' if x=='0xcc09' else x)\n",
    "df['dsport']=df['dsport'].apply(lambda x: '49320' if x=='0xc0a8' else x)\n",
    "df['dsport']=df['dsport'].apply(lambda x: np.nan if x=='0x20205321' else x)\n",
    "df['dsport']=df['dsport'].astype('float64')"
   ]
  },
  {
   "cell_type": "code",
   "execution_count": 49,
   "metadata": {
    "ExecuteTime": {
     "end_time": "2020-09-18T10:45:11.559583Z",
     "start_time": "2020-09-18T10:45:11.306196Z"
    }
   },
   "outputs": [],
   "source": [
    "df['ct_ftp_cmd']=df['ct_ftp_cmd'].astype(int)"
   ]
  },
  {
   "cell_type": "code",
   "execution_count": 50,
   "metadata": {
    "ExecuteTime": {
     "end_time": "2020-09-18T10:45:13.802472Z",
     "start_time": "2020-09-18T10:45:13.717817Z"
    }
   },
   "outputs": [
    {
     "data": {
      "text/html": [
       "<div>\n",
       "<style scoped>\n",
       "    .dataframe tbody tr th:only-of-type {\n",
       "        vertical-align: middle;\n",
       "    }\n",
       "\n",
       "    .dataframe tbody tr th {\n",
       "        vertical-align: top;\n",
       "    }\n",
       "\n",
       "    .dataframe thead th {\n",
       "        text-align: right;\n",
       "    }\n",
       "</style>\n",
       "<table border=\"1\" class=\"dataframe\">\n",
       "  <thead>\n",
       "    <tr style=\"text-align: right;\">\n",
       "      <th></th>\n",
       "      <th>proto</th>\n",
       "      <th>state</th>\n",
       "      <th>service</th>\n",
       "    </tr>\n",
       "  </thead>\n",
       "  <tbody>\n",
       "    <tr>\n",
       "      <th>0</th>\n",
       "      <td>udp</td>\n",
       "      <td>CON</td>\n",
       "      <td>NaN</td>\n",
       "    </tr>\n",
       "    <tr>\n",
       "      <th>1</th>\n",
       "      <td>udp</td>\n",
       "      <td>CON</td>\n",
       "      <td>dns</td>\n",
       "    </tr>\n",
       "    <tr>\n",
       "      <th>2</th>\n",
       "      <td>udp</td>\n",
       "      <td>CON</td>\n",
       "      <td>dns</td>\n",
       "    </tr>\n",
       "    <tr>\n",
       "      <th>3</th>\n",
       "      <td>udp</td>\n",
       "      <td>CON</td>\n",
       "      <td>dns</td>\n",
       "    </tr>\n",
       "    <tr>\n",
       "      <th>4</th>\n",
       "      <td>udp</td>\n",
       "      <td>CON</td>\n",
       "      <td>NaN</td>\n",
       "    </tr>\n",
       "    <tr>\n",
       "      <th>...</th>\n",
       "      <td>...</td>\n",
       "      <td>...</td>\n",
       "      <td>...</td>\n",
       "    </tr>\n",
       "    <tr>\n",
       "      <th>2540035</th>\n",
       "      <td>tcp</td>\n",
       "      <td>CON</td>\n",
       "      <td>http</td>\n",
       "    </tr>\n",
       "    <tr>\n",
       "      <th>2540037</th>\n",
       "      <td>tcp</td>\n",
       "      <td>CON</td>\n",
       "      <td>NaN</td>\n",
       "    </tr>\n",
       "    <tr>\n",
       "      <th>2540038</th>\n",
       "      <td>tcp</td>\n",
       "      <td>FIN</td>\n",
       "      <td>ftp-data</td>\n",
       "    </tr>\n",
       "    <tr>\n",
       "      <th>2540041</th>\n",
       "      <td>tcp</td>\n",
       "      <td>CON</td>\n",
       "      <td>http</td>\n",
       "    </tr>\n",
       "    <tr>\n",
       "      <th>2540042</th>\n",
       "      <td>tcp</td>\n",
       "      <td>CON</td>\n",
       "      <td>pop3</td>\n",
       "    </tr>\n",
       "  </tbody>\n",
       "</table>\n",
       "<p>2059413 rows × 3 columns</p>\n",
       "</div>"
      ],
      "text/plain": [
       "        proto state   service\n",
       "0         udp   CON       NaN\n",
       "1         udp   CON       dns\n",
       "2         udp   CON       dns\n",
       "3         udp   CON       dns\n",
       "4         udp   CON       NaN\n",
       "...       ...   ...       ...\n",
       "2540035   tcp   CON      http\n",
       "2540037   tcp   CON       NaN\n",
       "2540038   tcp   FIN  ftp-data\n",
       "2540041   tcp   CON      http\n",
       "2540042   tcp   CON      pop3\n",
       "\n",
       "[2059413 rows x 3 columns]"
      ]
     },
     "execution_count": 50,
     "metadata": {},
     "output_type": "execute_result"
    }
   ],
   "source": [
    "df.select_dtypes(exclude=np.number)"
   ]
  },
  {
   "cell_type": "code",
   "execution_count": 57,
   "metadata": {
    "ExecuteTime": {
     "end_time": "2020-09-18T10:53:12.949667Z",
     "start_time": "2020-09-18T10:53:09.614010Z"
    }
   },
   "outputs": [],
   "source": [
    "dummies=pd.get_dummies(df[['proto','state','service']])"
   ]
  },
  {
   "cell_type": "code",
   "execution_count": 58,
   "metadata": {
    "ExecuteTime": {
     "end_time": "2020-09-18T10:54:34.042694Z",
     "start_time": "2020-09-18T10:54:33.575750Z"
    }
   },
   "outputs": [],
   "source": [
    "df.drop(columns=['proto','state','service'],inplace=True)"
   ]
  },
  {
   "cell_type": "code",
   "execution_count": 64,
   "metadata": {
    "ExecuteTime": {
     "end_time": "2020-09-18T10:58:00.808568Z",
     "start_time": "2020-09-18T10:57:39.327563Z"
    }
   },
   "outputs": [],
   "source": [
    "scaler=MinMaxScaler()\n",
    "df.iloc[:,0:42]=scaler.fit_transform(df.iloc[:,0:42])"
   ]
  },
  {
   "cell_type": "code",
   "execution_count": 65,
   "metadata": {
    "ExecuteTime": {
     "end_time": "2020-09-18T10:58:02.061636Z",
     "start_time": "2020-09-18T10:58:02.014829Z"
    }
   },
   "outputs": [
    {
     "data": {
      "text/html": [
       "<div>\n",
       "<style scoped>\n",
       "    .dataframe tbody tr th:only-of-type {\n",
       "        vertical-align: middle;\n",
       "    }\n",
       "\n",
       "    .dataframe tbody tr th {\n",
       "        vertical-align: top;\n",
       "    }\n",
       "\n",
       "    .dataframe thead th {\n",
       "        text-align: right;\n",
       "    }\n",
       "</style>\n",
       "<table border=\"1\" class=\"dataframe\">\n",
       "  <thead>\n",
       "    <tr style=\"text-align: right;\">\n",
       "      <th></th>\n",
       "      <th>sport</th>\n",
       "      <th>dsport</th>\n",
       "      <th>dur</th>\n",
       "      <th>sbytes</th>\n",
       "      <th>dbytes</th>\n",
       "      <th>sttl</th>\n",
       "      <th>dttl</th>\n",
       "      <th>sloss</th>\n",
       "      <th>dloss</th>\n",
       "      <th>Sload</th>\n",
       "      <th>...</th>\n",
       "      <th>is_ftp_login</th>\n",
       "      <th>ct_ftp_cmd</th>\n",
       "      <th>ct_srv_src</th>\n",
       "      <th>ct_srv_dst</th>\n",
       "      <th>ct_dst_ltm</th>\n",
       "      <th>ct_src_ ltm</th>\n",
       "      <th>ct_src_dport_ltm</th>\n",
       "      <th>ct_dst_sport_ltm</th>\n",
       "      <th>ct_dst_src_ltm</th>\n",
       "      <th>Label</th>\n",
       "    </tr>\n",
       "  </thead>\n",
       "  <tbody>\n",
       "    <tr>\n",
       "      <th>0</th>\n",
       "      <td>0.513634</td>\n",
       "      <td>0.015625</td>\n",
       "      <td>4.112267e-06</td>\n",
       "      <td>0.000037</td>\n",
       "      <td>0.000021</td>\n",
       "      <td>0.121569</td>\n",
       "      <td>0.114173</td>\n",
       "      <td>0.0</td>\n",
       "      <td>0.0</td>\n",
       "      <td>0.000015</td>\n",
       "      <td>...</td>\n",
       "      <td>0.0</td>\n",
       "      <td>0.0</td>\n",
       "      <td>0.015152</td>\n",
       "      <td>0.045455</td>\n",
       "      <td>0.015152</td>\n",
       "      <td>0.030303</td>\n",
       "      <td>0.000000</td>\n",
       "      <td>0.0</td>\n",
       "      <td>0.015152</td>\n",
       "      <td>0</td>\n",
       "    </tr>\n",
       "    <tr>\n",
       "      <th>1</th>\n",
       "      <td>0.022339</td>\n",
       "      <td>0.000809</td>\n",
       "      <td>1.273525e-07</td>\n",
       "      <td>0.000010</td>\n",
       "      <td>0.000012</td>\n",
       "      <td>0.121569</td>\n",
       "      <td>0.114173</td>\n",
       "      <td>0.0</td>\n",
       "      <td>0.0</td>\n",
       "      <td>0.000087</td>\n",
       "      <td>...</td>\n",
       "      <td>0.0</td>\n",
       "      <td>0.0</td>\n",
       "      <td>0.166667</td>\n",
       "      <td>0.106061</td>\n",
       "      <td>0.000000</td>\n",
       "      <td>0.015152</td>\n",
       "      <td>0.015152</td>\n",
       "      <td>0.0</td>\n",
       "      <td>0.000000</td>\n",
       "      <td>0</td>\n",
       "    </tr>\n",
       "    <tr>\n",
       "      <th>2</th>\n",
       "      <td>0.054826</td>\n",
       "      <td>0.000809</td>\n",
       "      <td>1.375953e-07</td>\n",
       "      <td>0.000009</td>\n",
       "      <td>0.000011</td>\n",
       "      <td>0.121569</td>\n",
       "      <td>0.114173</td>\n",
       "      <td>0.0</td>\n",
       "      <td>0.0</td>\n",
       "      <td>0.000073</td>\n",
       "      <td>...</td>\n",
       "      <td>0.0</td>\n",
       "      <td>0.0</td>\n",
       "      <td>0.075758</td>\n",
       "      <td>0.121212</td>\n",
       "      <td>0.000000</td>\n",
       "      <td>0.000000</td>\n",
       "      <td>0.000000</td>\n",
       "      <td>0.0</td>\n",
       "      <td>0.000000</td>\n",
       "      <td>0</td>\n",
       "    </tr>\n",
       "    <tr>\n",
       "      <th>3</th>\n",
       "      <td>0.757824</td>\n",
       "      <td>0.000809</td>\n",
       "      <td>1.330429e-07</td>\n",
       "      <td>0.000010</td>\n",
       "      <td>0.000012</td>\n",
       "      <td>0.121569</td>\n",
       "      <td>0.114173</td>\n",
       "      <td>0.0</td>\n",
       "      <td>0.0</td>\n",
       "      <td>0.000083</td>\n",
       "      <td>...</td>\n",
       "      <td>0.0</td>\n",
       "      <td>0.0</td>\n",
       "      <td>0.090909</td>\n",
       "      <td>0.121212</td>\n",
       "      <td>0.000000</td>\n",
       "      <td>0.000000</td>\n",
       "      <td>0.000000</td>\n",
       "      <td>0.0</td>\n",
       "      <td>0.000000</td>\n",
       "      <td>0</td>\n",
       "    </tr>\n",
       "    <tr>\n",
       "      <th>4</th>\n",
       "      <td>0.490105</td>\n",
       "      <td>0.001694</td>\n",
       "      <td>8.915697e-06</td>\n",
       "      <td>0.000040</td>\n",
       "      <td>0.000021</td>\n",
       "      <td>0.121569</td>\n",
       "      <td>0.114173</td>\n",
       "      <td>0.0</td>\n",
       "      <td>0.0</td>\n",
       "      <td>0.000007</td>\n",
       "      <td>...</td>\n",
       "      <td>0.0</td>\n",
       "      <td>0.0</td>\n",
       "      <td>0.015152</td>\n",
       "      <td>0.045455</td>\n",
       "      <td>0.015152</td>\n",
       "      <td>0.030303</td>\n",
       "      <td>0.000000</td>\n",
       "      <td>0.0</td>\n",
       "      <td>0.015152</td>\n",
       "      <td>0</td>\n",
       "    </tr>\n",
       "  </tbody>\n",
       "</table>\n",
       "<p>5 rows × 43 columns</p>\n",
       "</div>"
      ],
      "text/plain": [
       "      sport    dsport           dur    sbytes    dbytes      sttl      dttl  \\\n",
       "0  0.513634  0.015625  4.112267e-06  0.000037  0.000021  0.121569  0.114173   \n",
       "1  0.022339  0.000809  1.273525e-07  0.000010  0.000012  0.121569  0.114173   \n",
       "2  0.054826  0.000809  1.375953e-07  0.000009  0.000011  0.121569  0.114173   \n",
       "3  0.757824  0.000809  1.330429e-07  0.000010  0.000012  0.121569  0.114173   \n",
       "4  0.490105  0.001694  8.915697e-06  0.000040  0.000021  0.121569  0.114173   \n",
       "\n",
       "   sloss  dloss     Sload  ...  is_ftp_login  ct_ftp_cmd  ct_srv_src  \\\n",
       "0    0.0    0.0  0.000015  ...           0.0         0.0    0.015152   \n",
       "1    0.0    0.0  0.000087  ...           0.0         0.0    0.166667   \n",
       "2    0.0    0.0  0.000073  ...           0.0         0.0    0.075758   \n",
       "3    0.0    0.0  0.000083  ...           0.0         0.0    0.090909   \n",
       "4    0.0    0.0  0.000007  ...           0.0         0.0    0.015152   \n",
       "\n",
       "   ct_srv_dst  ct_dst_ltm  ct_src_ ltm  ct_src_dport_ltm  ct_dst_sport_ltm  \\\n",
       "0    0.045455    0.015152     0.030303          0.000000               0.0   \n",
       "1    0.106061    0.000000     0.015152          0.015152               0.0   \n",
       "2    0.121212    0.000000     0.000000          0.000000               0.0   \n",
       "3    0.121212    0.000000     0.000000          0.000000               0.0   \n",
       "4    0.045455    0.015152     0.030303          0.000000               0.0   \n",
       "\n",
       "   ct_dst_src_ltm  Label  \n",
       "0        0.015152      0  \n",
       "1        0.000000      0  \n",
       "2        0.000000      0  \n",
       "3        0.000000      0  \n",
       "4        0.015152      0  \n",
       "\n",
       "[5 rows x 43 columns]"
      ]
     },
     "execution_count": 65,
     "metadata": {},
     "output_type": "execute_result"
    }
   ],
   "source": [
    "df.head()"
   ]
  },
  {
   "cell_type": "code",
   "execution_count": 66,
   "metadata": {
    "ExecuteTime": {
     "end_time": "2020-09-18T10:58:23.051990Z",
     "start_time": "2020-09-18T10:58:23.020771Z"
    }
   },
   "outputs": [
    {
     "data": {
      "text/plain": [
       "(2059413, 43)"
      ]
     },
     "execution_count": 66,
     "metadata": {},
     "output_type": "execute_result"
    }
   ],
   "source": [
    "df.shape"
   ]
  },
  {
   "cell_type": "code",
   "execution_count": 67,
   "metadata": {
    "ExecuteTime": {
     "end_time": "2020-09-18T10:58:51.691541Z",
     "start_time": "2020-09-18T10:58:50.587953Z"
    }
   },
   "outputs": [
    {
     "data": {
      "text/plain": [
       "(2059413, 206)"
      ]
     },
     "execution_count": 67,
     "metadata": {},
     "output_type": "execute_result"
    }
   ],
   "source": [
    "df=pd.concat([df,dummies],axis=1)\n",
    "df.shape"
   ]
  },
  {
   "cell_type": "code",
   "execution_count": 68,
   "metadata": {
    "ExecuteTime": {
     "end_time": "2020-09-18T11:02:23.105241Z",
     "start_time": "2020-09-18T10:59:27.743997Z"
    }
   },
   "outputs": [],
   "source": [
    "df.to_csv('D:/Semester5Project/datasetnorm.csv',chunksize=512)"
   ]
  },
  {
   "cell_type": "code",
   "execution_count": null,
   "metadata": {},
   "outputs": [],
   "source": []
  }
 ],
 "metadata": {
  "kernelspec": {
   "display_name": "Python 3",
   "language": "python",
   "name": "python3"
  },
  "language_info": {
   "codemirror_mode": {
    "name": "ipython",
    "version": 3
   },
   "file_extension": ".py",
   "mimetype": "text/x-python",
   "name": "python",
   "nbconvert_exporter": "python",
   "pygments_lexer": "ipython3",
   "version": "3.8.5"
  },
  "varInspector": {
   "cols": {
    "lenName": 16,
    "lenType": 16,
    "lenVar": 40
   },
   "kernels_config": {
    "python": {
     "delete_cmd_postfix": "",
     "delete_cmd_prefix": "del ",
     "library": "var_list.py",
     "varRefreshCmd": "print(var_dic_list())"
    },
    "r": {
     "delete_cmd_postfix": ") ",
     "delete_cmd_prefix": "rm(",
     "library": "var_list.r",
     "varRefreshCmd": "cat(var_dic_list()) "
    }
   },
   "types_to_exclude": [
    "module",
    "function",
    "builtin_function_or_method",
    "instance",
    "_Feature"
   ],
   "window_display": false
  }
 },
 "nbformat": 4,
 "nbformat_minor": 4
}
